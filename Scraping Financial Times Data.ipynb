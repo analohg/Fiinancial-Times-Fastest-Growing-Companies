{
 "cells": [
  {
   "cell_type": "code",
   "execution_count": 6,
   "id": "5e506b22",
   "metadata": {},
   "outputs": [],
   "source": [
    "#import all dependencies\n",
    "\n",
    "import pandas as pd\n",
    "import time\n",
    "from time import sleep\n",
    "from selenium import webdriver\n",
    "from selenium.webdriver.common.by import By\n",
    "import gspread\n",
    "from df2gspread import df2gspread as d2g\n",
    "from oauth2client.service_account import ServiceAccountCredentials\n"
   ]
  },
  {
   "cell_type": "code",
   "execution_count": 3,
   "id": "2c604e04",
   "metadata": {},
   "outputs": [
    {
     "name": "stderr",
     "output_type": "stream",
     "text": [
      "C:\\Users\\analo\\AppData\\Local\\Temp\\ipykernel_25652\\441148923.py:3: DeprecationWarning: executable_path has been deprecated, please pass in a Service object\n",
      "  browser = webdriver.Chrome(executable_path=\"/Users/analo/Downloads/chromedriver_win32/chromedriver\")\n"
     ]
    }
   ],
   "source": [
    "#create variable browser, and set its path to where you have the chrome webdriver .exe file\n",
    "\n",
    "browser = webdriver.Chrome(executable_path=\"/Users/analo/Downloads/chromedriver_win32/chromedriver\")"
   ]
  },
  {
   "cell_type": "code",
   "execution_count": 4,
   "id": "3a65c59a",
   "metadata": {},
   "outputs": [],
   "source": [
    "#creating the variable 'url' and set its value to the link containing the financial times article\n",
    "\n",
    "url = 'https://www.ft.com/content/2e45727c-0c2a-4636-95d0-4889969cfca8'"
   ]
  },
  {
   "cell_type": "code",
   "execution_count": 7,
   "id": "b190c0ff",
   "metadata": {},
   "outputs": [],
   "source": [
    "#see if the browser works. if it works, a new chrome (or whatever browser you use) opens up the ft article, and scrolls to the bottom of the page\n",
    "\n",
    "browser.get(url)\n",
    "browser.execute_script(\"window.scrollTo(1,20000)\")\n",
    "time.sleep(2)"
   ]
  },
  {
   "cell_type": "code",
   "execution_count": 8,
   "id": "4eddd208",
   "metadata": {},
   "outputs": [],
   "source": [
    "#store the content of the page in the variable 'html' using the page source attribute of the chrome web driver\n",
    "html = browser.page_source"
   ]
  },
  {
   "cell_type": "code",
   "execution_count": 9,
   "id": "1c22e1e4",
   "metadata": {},
   "outputs": [],
   "source": [
    "#store the content in an html file called 'ft_report'\n",
    "\n",
    "with open('ft_report.html', 'w+', encoding='utf-8', errors='backslashreplace') as f:\n",
    "    f.write(html)"
   ]
  },
  {
   "cell_type": "code",
   "execution_count": 10,
   "id": "55e78c46",
   "metadata": {},
   "outputs": [],
   "source": [
    "#next, read the value of the ft_report file and store in the variable 'ft_data'\n",
    "\n",
    "with open('ft_report.html', 'r', encoding='utf-8', errors='backslashreplace') as f:\n",
    "    ft_data = f.read()"
   ]
  },
  {
   "cell_type": "code",
   "execution_count": 11,
   "id": "e3930709",
   "metadata": {},
   "outputs": [],
   "source": [
    "#now, we extract the container 'tbody' that contains all the rows in the ft article table containing the data we need\n",
    "#we utilize the 'find_element' method of the chrome web driver (called browser in this case), and we use it to find the XPATH of the table rows elements \n",
    "#we also create an empty list 'data' in this list we will write a for loop and append all the row elements\n",
    "\n",
    "tbody = browser.find_element(By.XPATH, '//*[@id=\"site-content\"]/div[3]/div[3]/div/div[1]/div/div[1]/table/tbody')\n",
    "\n",
    "data = []"
   ]
  },
  {
   "cell_type": "code",
   "execution_count": 12,
   "id": "8890160e",
   "metadata": {},
   "outputs": [],
   "source": [
    "#now, we write the for loop to iterate through tbody, and store each row element in the list 'data'\n",
    "\n",
    "for tr in tbody.find_elements(By.XPATH, '//tr'):\n",
    "    row = [item.text for item in tr.find_elements(By.XPATH, './/td')]\n",
    "    data.append(row)"
   ]
  },
  {
   "cell_type": "code",
   "execution_count": 13,
   "id": "b94adbc9",
   "metadata": {},
   "outputs": [],
   "source": [
    "#next, we do the same thing as above, but this time we're interested in the column headers contained in the 'thead' container\n",
    "#we also create an empty list 'data_col' to store all the column header names using another forloop\n",
    "\n",
    "thead = browser.find_element(By.XPATH, '//*[@id=\"site-content\"]/div[3]/div[3]/div/div[1]/div/div[1]/table/thead')\n",
    "\n",
    "data_col = []"
   ]
  },
  {
   "cell_type": "code",
   "execution_count": 14,
   "id": "6b386e7e",
   "metadata": {},
   "outputs": [],
   "source": [
    "#this for loop iterates through the 'thead' variable and stores all the header names\n",
    "\n",
    "for tr in thead.find_elements(By.XPATH, '//tr'):\n",
    "    col = [item.text for item in tr.find_elements(By.XPATH, './/th')]\n",
    "    data_col.append(col)"
   ]
  },
  {
   "cell_type": "code",
   "execution_count": 15,
   "id": "19b31728",
   "metadata": {},
   "outputs": [],
   "source": [
    "#we need only the first element in data_col\n",
    "\n",
    "data_col = data_col[0]"
   ]
  },
  {
   "cell_type": "code",
   "execution_count": 16,
   "id": "98c8cbac",
   "metadata": {},
   "outputs": [],
   "source": [
    "#for 'data' we need the first 50 columns starting from index 1\n",
    "\n",
    "data = data[1:51]"
   ]
  },
  {
   "cell_type": "code",
   "execution_count": 17,
   "id": "d5369efa",
   "metadata": {},
   "outputs": [],
   "source": [
    "#now, we create the dataframe using 'data' as the row values, and 'data_col' as the column headers\n",
    "#we store this dataframe in a new variable called 'ft_data'\n",
    "\n",
    "ft_data = pd.DataFrame(data, columns = data_col)"
   ]
  },
  {
   "cell_type": "code",
   "execution_count": 18,
   "id": "a584111a",
   "metadata": {},
   "outputs": [
    {
     "data": {
      "text/html": [
       "<div>\n",
       "<style scoped>\n",
       "    .dataframe tbody tr th:only-of-type {\n",
       "        vertical-align: middle;\n",
       "    }\n",
       "\n",
       "    .dataframe tbody tr th {\n",
       "        vertical-align: top;\n",
       "    }\n",
       "\n",
       "    .dataframe thead th {\n",
       "        text-align: right;\n",
       "    }\n",
       "</style>\n",
       "<table border=\"1\" class=\"dataframe\">\n",
       "  <thead>\n",
       "    <tr style=\"text-align: right;\">\n",
       "      <th></th>\n",
       "      <th>Rank</th>\n",
       "      <th>Company name</th>\n",
       "      <th>Brand</th>\n",
       "      <th>Country</th>\n",
       "      <th>Sector</th>\n",
       "      <th>Absolute growth rate (%)</th>\n",
       "      <th>Compound annual growth rate (CAGR, %)</th>\n",
       "      <th>Revenues 2021 ($mn)</th>\n",
       "      <th>Revenues 2018 ($mn)</th>\n",
       "      <th>Number of employees 2021</th>\n",
       "      <th>Number of employees 2018</th>\n",
       "      <th>Founding year</th>\n",
       "    </tr>\n",
       "  </thead>\n",
       "  <tbody>\n",
       "    <tr>\n",
       "      <th>0</th>\n",
       "      <td>1</td>\n",
       "      <td>AFEX Commodities Exchange Ltd.</td>\n",
       "      <td>AFEX</td>\n",
       "      <td>Nigeria</td>\n",
       "      <td>Agriculture, Forestry &amp; Fishing</td>\n",
       "      <td>22,076.31</td>\n",
       "      <td>505.289</td>\n",
       "      <td>102</td>\n",
       "      <td>0.5</td>\n",
       "      <td>278</td>\n",
       "      <td>64</td>\n",
       "      <td>2014</td>\n",
       "    </tr>\n",
       "    <tr>\n",
       "      <th>1</th>\n",
       "      <td>2</td>\n",
       "      <td>Moniepoint, Inc. (formerly TeamApt, Inc.)</td>\n",
       "      <td>Moniepoint</td>\n",
       "      <td>Nigeria</td>\n",
       "      <td>Fintech, Financial Services &amp; Insurance</td>\n",
       "      <td>7,372.70</td>\n",
       "      <td>321.204</td>\n",
       "      <td>62.6</td>\n",
       "      <td>0.8</td>\n",
       "      <td>538</td>\n",
       "      <td>64</td>\n",
       "      <td>2015</td>\n",
       "    </tr>\n",
       "    <tr>\n",
       "      <th>2</th>\n",
       "      <td>3</td>\n",
       "      <td>Sokowatch Ltd.</td>\n",
       "      <td>Wasoko</td>\n",
       "      <td>Kenya</td>\n",
       "      <td>E-commerce</td>\n",
       "      <td>3,901.40</td>\n",
       "      <td>242.035</td>\n",
       "      <td>136.9</td>\n",
       "      <td>3.4</td>\n",
       "      <td>1,490</td>\n",
       "      <td>104</td>\n",
       "      <td>2016</td>\n",
       "    </tr>\n",
       "    <tr>\n",
       "      <th>3</th>\n",
       "      <td>4</td>\n",
       "      <td>Altech</td>\n",
       "      <td>Altech</td>\n",
       "      <td>Democratic Republic of Congo</td>\n",
       "      <td>Energy &amp; Utilities</td>\n",
       "      <td>3,017.43</td>\n",
       "      <td>214.726</td>\n",
       "      <td>17</td>\n",
       "      <td>0.5</td>\n",
       "      <td>4,000</td>\n",
       "      <td>800</td>\n",
       "      <td>2013</td>\n",
       "    </tr>\n",
       "    <tr>\n",
       "      <th>4</th>\n",
       "      <td>5</td>\n",
       "      <td>The Africaworks Group of Companies</td>\n",
       "      <td>Africaworks</td>\n",
       "      <td>Mauritius</td>\n",
       "      <td>Real estate</td>\n",
       "      <td>2,314.43</td>\n",
       "      <td>189.027</td>\n",
       "      <td>6.8</td>\n",
       "      <td>0.3</td>\n",
       "      <td>105</td>\n",
       "      <td>12</td>\n",
       "      <td>2017</td>\n",
       "    </tr>\n",
       "  </tbody>\n",
       "</table>\n",
       "</div>"
      ],
      "text/plain": [
       "  Rank                               Company name        Brand  \\\n",
       "0    1             AFEX Commodities Exchange Ltd.         AFEX   \n",
       "1    2  Moniepoint, Inc. (formerly TeamApt, Inc.)   Moniepoint   \n",
       "2    3                             Sokowatch Ltd.       Wasoko   \n",
       "3    4                                     Altech       Altech   \n",
       "4    5         The Africaworks Group of Companies  Africaworks   \n",
       "\n",
       "                        Country                                   Sector  \\\n",
       "0                       Nigeria          Agriculture, Forestry & Fishing   \n",
       "1                       Nigeria  Fintech, Financial Services & Insurance   \n",
       "2                         Kenya                               E-commerce   \n",
       "3  Democratic Republic of Congo                       Energy & Utilities   \n",
       "4                     Mauritius                              Real estate   \n",
       "\n",
       "  Absolute growth rate (%) Compound annual growth rate (CAGR, %)  \\\n",
       "0                22,076.31                               505.289   \n",
       "1                 7,372.70                               321.204   \n",
       "2                 3,901.40                               242.035   \n",
       "3                 3,017.43                               214.726   \n",
       "4                 2,314.43                               189.027   \n",
       "\n",
       "  Revenues 2021 ($mn) Revenues 2018 ($mn) Number of employees 2021  \\\n",
       "0                 102                 0.5                      278   \n",
       "1                62.6                 0.8                      538   \n",
       "2               136.9                 3.4                    1,490   \n",
       "3                  17                 0.5                    4,000   \n",
       "4                 6.8                 0.3                      105   \n",
       "\n",
       "  Number of employees 2018 Founding year  \n",
       "0                       64          2014  \n",
       "1                       64          2015  \n",
       "2                      104          2016  \n",
       "3                      800          2013  \n",
       "4                       12          2017  "
      ]
     },
     "execution_count": 18,
     "metadata": {},
     "output_type": "execute_result"
    }
   ],
   "source": [
    "#next, we check to make sure our dataframe is as expected by returning only the 'head'\n",
    "\n",
    "ft_data.head()"
   ]
  },
  {
   "cell_type": "markdown",
   "id": "e7905525",
   "metadata": {},
   "source": [
    "###To Learn how to push a pandas dataframe into google sheet, please read this brilliant article by *Melvynn Fernandez* https://towardsdatascience.com/using-python-to-push-your-pandas-dataframe-to-google-sheets-de69422508f\n",
    "\n",
    "###To learn how to authenticate your account to access Google Sheet API's please read this https://docs.gspread.org/en/latest/oauth2.html"
   ]
  },
  {
   "cell_type": "code",
   "execution_count": 19,
   "id": "f9e0be78",
   "metadata": {},
   "outputs": [],
   "source": [
    "#next we create try to upload our dataframe into a googlesheet file to serve as the database sort of\n",
    "scope = ['https://spreadsheets.google.com/feeds',\n",
    "         'https://www.googleapis.com/auth/drive']\n",
    "\n",
    "credentials = ServiceAccountCredentials.from_json_keyfile_name(\n",
    "    'maps-project-268611-f4cdd4198cf5.json', scope)"
   ]
  },
  {
   "cell_type": "code",
   "execution_count": null,
   "id": "54c5d872",
   "metadata": {},
   "outputs": [],
   "source": [
    "#finally, we push this dataframe to googlesheet, and we name the sheet that contains our full data 'List'\n",
    "\n",
    "spreadsheet_key = '12eGR4auYOJlqZE5xjPc6JY6qJdhfr3lvHU4ZhOWv1fU'\n",
    "wks_name = 'List'\n",
    "d2g.upload(ft_data, spreadsheet_key, wks_name, credentials=credentials, row_names=True)"
   ]
  }
 ],
 "metadata": {
  "kernelspec": {
   "display_name": "Python 3 (ipykernel)",
   "language": "python",
   "name": "python3"
  },
  "language_info": {
   "codemirror_mode": {
    "name": "ipython",
    "version": 3
   },
   "file_extension": ".py",
   "mimetype": "text/x-python",
   "name": "python",
   "nbconvert_exporter": "python",
   "pygments_lexer": "ipython3",
   "version": "3.10.5"
  }
 },
 "nbformat": 4,
 "nbformat_minor": 5
}
